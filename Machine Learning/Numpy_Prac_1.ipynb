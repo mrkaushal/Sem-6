{
  "nbformat": 4,
  "nbformat_minor": 0,
  "metadata": {
    "colab": {
      "provenance": []
    },
    "kernelspec": {
      "name": "python3",
      "display_name": "Python 3"
    },
    "language_info": {
      "name": "python"
    }
  },
  "cells": [
    {
      "cell_type": "markdown",
      "source": [
        "**1) Creating a Vector**"
      ],
      "metadata": {
        "id": "y0VIwNcXWc46"
      }
    },
    {
      "cell_type": "code",
      "source": [
        "#Load Library\n",
        "import numpy as np\n",
        "\n",
        "#Create a vector as a Row\n",
        "vector_row = np.array([1,2,3])\n",
        "\n",
        "#Create vector as a Column\n",
        "vector_column = np.array([[1],[2],[3]])"
      ],
      "metadata": {
        "id": "_YNd7cerWfwn"
      },
      "execution_count": null,
      "outputs": []
    },
    {
      "cell_type": "code",
      "source": [
        "vector_row"
      ],
      "metadata": {
        "colab": {
          "base_uri": "https://localhost:8080/"
        },
        "id": "VbVcfsJ4Wpeo",
        "outputId": "1ba8abba-f009-44b9-c533-9517ab190586"
      },
      "execution_count": null,
      "outputs": [
        {
          "output_type": "execute_result",
          "data": {
            "text/plain": [
              "array([1, 2, 3])"
            ]
          },
          "metadata": {},
          "execution_count": 45
        }
      ]
    },
    {
      "cell_type": "code",
      "source": [
        "vector_column"
      ],
      "metadata": {
        "colab": {
          "base_uri": "https://localhost:8080/"
        },
        "id": "jwSOjelQWt8W",
        "outputId": "df201d5f-8422-49c8-9f72-1988a124cfd9"
      },
      "execution_count": null,
      "outputs": [
        {
          "output_type": "execute_result",
          "data": {
            "text/plain": [
              "array([[1],\n",
              "       [2],\n",
              "       [3]])"
            ]
          },
          "metadata": {},
          "execution_count": 40
        }
      ]
    },
    {
      "cell_type": "code",
      "source": [
        "myArr = np.zeros((2,3))\n",
        "print(myArr)"
      ],
      "metadata": {
        "colab": {
          "base_uri": "https://localhost:8080/"
        },
        "id": "4Ypl30os_wKp",
        "outputId": "45d3b6c9-5e7c-4549-a4a8-2c408bc22a8a"
      },
      "execution_count": null,
      "outputs": [
        {
          "output_type": "stream",
          "name": "stdout",
          "text": [
            "[[0. 0. 0.]\n",
            " [0. 0. 0.]]\n"
          ]
        }
      ]
    },
    {
      "cell_type": "markdown",
      "source": [
        "**2) Creating a Matrix**"
      ],
      "metadata": {
        "id": "ld9XRXkeW2P0"
      }
    },
    {
      "cell_type": "code",
      "source": [
        "#Load Library\n",
        "import numpy as np\n",
        "\n",
        "#Create a Matrix\n",
        "matrix = np.array([[1,2,3],[4,5,6]])\n",
        "print(matrix)"
      ],
      "metadata": {
        "colab": {
          "base_uri": "https://localhost:8080/"
        },
        "id": "yNJeXnz5W4MM",
        "outputId": "78da9706-7c5b-438f-942f-55e4910946b1"
      },
      "execution_count": null,
      "outputs": [
        {
          "output_type": "stream",
          "name": "stdout",
          "text": [
            "[[1 2 3]\n",
            " [4 5 6]]\n"
          ]
        }
      ]
    },
    {
      "cell_type": "code",
      "source": [
        "arr = np.zeros([4, 3])\n",
        "print(arr)"
      ],
      "metadata": {
        "colab": {
          "base_uri": "https://localhost:8080/"
        },
        "id": "btW8fQNsA_AI",
        "outputId": "ed86de31-b90e-4c75-bc16-57d1a6fdc603"
      },
      "execution_count": null,
      "outputs": [
        {
          "output_type": "stream",
          "name": "stdout",
          "text": [
            "[[0. 0. 0.]\n",
            " [0. 0. 0.]\n",
            " [0. 0. 0.]\n",
            " [0. 0. 0.]]\n"
          ]
        }
      ]
    },
    {
      "cell_type": "markdown",
      "source": [
        "**Finding the max and min values**"
      ],
      "metadata": {
        "id": "4CS-lsJtXFCo"
      }
    },
    {
      "cell_type": "code",
      "source": [
        "#Load Library\n",
        "import numpy as np\n",
        "\n",
        "#Create a Matrix\n",
        "matrix = np.array([[1,2,3],[4,5,6],[7,8,9]])\n",
        "print(matrix)\n",
        "#Return the max element\n",
        "print(np.max(matrix))\n",
        "#Return the min element\n",
        "print(np.min(matrix))\n",
        "#To find the max element in each column\n",
        "print(np.max(matrix,axis=0))\n",
        "#To find the max element in each row\n",
        "print(np.max(matrix,axis=1))"
      ],
      "metadata": {
        "colab": {
          "base_uri": "https://localhost:8080/"
        },
        "id": "VcGlubTMXG9r",
        "outputId": "6f844692-360e-4ca1-f67c-1c2555419d14"
      },
      "execution_count": null,
      "outputs": [
        {
          "output_type": "stream",
          "name": "stdout",
          "text": [
            "[[1 2 3]\n",
            " [4 5 6]\n",
            " [7 8 9]]\n",
            "9\n",
            "1\n",
            "[7 8 9]\n",
            "[3 6 9]\n"
          ]
        }
      ]
    },
    {
      "cell_type": "markdown",
      "source": [
        "**Calculating Average, Variance and Standard deviation**"
      ],
      "metadata": {
        "id": "H8kpxXu-XbiC"
      }
    },
    {
      "cell_type": "code",
      "source": [
        "#Load Library\n",
        "import numpy as np\n",
        "\n",
        "#Create a Matrix\n",
        "matrix = np.array([[1,2,3],[4,5,6],[7,8,9]])\n",
        "print(matrix)\n",
        "#Mean\n",
        "print(np.mean(matrix))\n",
        "#Standard Dev.\n",
        "print(np.std(matrix))\n",
        "#Variance\n",
        "print(np.var(matrix))"
      ],
      "metadata": {
        "colab": {
          "base_uri": "https://localhost:8080/"
        },
        "id": "4zkzwZjGXZnO",
        "outputId": "b2f9241c-de53-4891-a7ff-14decd49749e"
      },
      "execution_count": null,
      "outputs": [
        {
          "output_type": "stream",
          "name": "stdout",
          "text": [
            "[[1 2 3]\n",
            " [4 5 6]\n",
            " [7 8 9]]\n",
            "5.0\n",
            "2.581988897471611\n",
            "6.666666666666667\n"
          ]
        }
      ]
    },
    {
      "cell_type": "markdown",
      "source": [
        "**Reshaping Arrays**"
      ],
      "metadata": {
        "id": "DqDjopiLXnx6"
      }
    },
    {
      "cell_type": "code",
      "source": [
        "#Load Library\n",
        "import numpy as np\n",
        "\n",
        "#Create a Matrix\n",
        "matrix = np.array([[1,2,3],[4,5,6],[7,8,9]])\n",
        "print(matrix)\n",
        "#Reshape\n",
        "print(matrix.reshape(9,1))\n"
      ],
      "metadata": {
        "colab": {
          "base_uri": "https://localhost:8080/"
        },
        "id": "cRgP2OHtXrUx",
        "outputId": "b8e3b4cf-0fb4-4a4f-a8ce-e5f9eb438333"
      },
      "execution_count": null,
      "outputs": [
        {
          "output_type": "stream",
          "name": "stdout",
          "text": [
            "[[1 2 3]\n",
            " [4 5 6]\n",
            " [7 8 9]]\n",
            "[[1]\n",
            " [2]\n",
            " [3]\n",
            " [4]\n",
            " [5]\n",
            " [6]\n",
            " [7]\n",
            " [8]\n",
            " [9]]\n"
          ]
        }
      ]
    },
    {
      "cell_type": "markdown",
      "source": [
        "**Transposing a vector or a Matrix**"
      ],
      "metadata": {
        "id": "PfWmUkeAYGPh"
      }
    },
    {
      "cell_type": "code",
      "source": [
        "#Load Library\n",
        "import numpy as np\n",
        "\n",
        "#Create a Matrix\n",
        "matrix = np.array([[1,2,3],[4,5,6],[7,8,9]])\n",
        "print(matrix)\n",
        "#Transpose the matrix\n",
        "print(matrix.T)"
      ],
      "metadata": {
        "colab": {
          "base_uri": "https://localhost:8080/"
        },
        "id": "iSfXRbQNYKkJ",
        "outputId": "c36015aa-dcd2-4ef6-d356-02f9e6b44ab9"
      },
      "execution_count": null,
      "outputs": [
        {
          "output_type": "stream",
          "name": "stdout",
          "text": [
            "[[1 2 3]\n",
            " [4 5 6]\n",
            " [7 8 9]]\n",
            "[[1 4 7]\n",
            " [2 5 8]\n",
            " [3 6 9]]\n"
          ]
        }
      ]
    },
    {
      "cell_type": "code",
      "source": [
        "a1D = np.array([1, 2, 3, 4])\n",
        "a2D = np.array([[1, 2], [3, 4]])"
      ],
      "metadata": {
        "id": "ILJryvwXco2R"
      },
      "execution_count": null,
      "outputs": []
    },
    {
      "cell_type": "code",
      "source": [
        "a1D"
      ],
      "metadata": {
        "colab": {
          "base_uri": "https://localhost:8080/"
        },
        "id": "jkvZS1YtcqrX",
        "outputId": "e3fe6c6e-fbb4-483d-a7a0-0a354e984ee7"
      },
      "execution_count": null,
      "outputs": [
        {
          "output_type": "execute_result",
          "data": {
            "text/plain": [
              "array([1, 2, 3, 4])"
            ]
          },
          "metadata": {},
          "execution_count": 12
        }
      ]
    },
    {
      "cell_type": "code",
      "source": [
        "a2D"
      ],
      "metadata": {
        "colab": {
          "base_uri": "https://localhost:8080/"
        },
        "id": "2dMZl3c1cuSN",
        "outputId": "ded21652-7251-45b9-c016-1e5dcfaf44e0"
      },
      "execution_count": null,
      "outputs": [
        {
          "output_type": "execute_result",
          "data": {
            "text/plain": [
              "array([[1, 2],\n",
              "       [3, 4]])"
            ]
          },
          "metadata": {},
          "execution_count": 13
        }
      ]
    },
    {
      "cell_type": "markdown",
      "source": [
        "**Empty**"
      ],
      "metadata": {
        "id": "3dtlViO8hmwu"
      }
    },
    {
      "cell_type": "code",
      "source": [
        "myArr = np.empty((3,3))\n",
        "print(myArr)"
      ],
      "metadata": {
        "colab": {
          "base_uri": "https://localhost:8080/"
        },
        "id": "Q-Z-fLFT_TCL",
        "outputId": "286cd9d7-17fb-49b9-81b6-e7ff94265a91"
      },
      "execution_count": null,
      "outputs": [
        {
          "output_type": "stream",
          "name": "stdout",
          "text": [
            "[[4.9e-324 9.9e-324 1.5e-323]\n",
            " [2.0e-323 2.5e-323 3.0e-323]\n",
            " [3.5e-323 4.0e-323 4.4e-323]]\n"
          ]
        }
      ]
    },
    {
      "cell_type": "markdown",
      "source": [
        "**Slicing**"
      ],
      "metadata": {
        "id": "_9a1IIXcAmqa"
      }
    },
    {
      "cell_type": "code",
      "source": [
        "#create numpy array\n",
        "arr = np.array([3, 5, 7, 9, 11, 15, 18, 22])\n",
        "arr"
      ],
      "metadata": {
        "colab": {
          "base_uri": "https://localhost:8080/"
        },
        "id": "oCemodrqBTWD",
        "outputId": "5a75fd7e-9e9f-4e95-825d-fcf2dea2a41b"
      },
      "execution_count": null,
      "outputs": [
        {
          "output_type": "execute_result",
          "data": {
            "text/plain": [
              "array([ 3,  5,  7,  9, 11, 15, 18, 22])"
            ]
          },
          "metadata": {},
          "execution_count": 15
        }
      ]
    },
    {
      "cell_type": "code",
      "source": [
        "#use slicing a 1D array\n",
        "arr2 = arr[1:6]\n",
        "arr2"
      ],
      "metadata": {
        "colab": {
          "base_uri": "https://localhost:8080/"
        },
        "id": "bfHhDN1koLzG",
        "outputId": "e889701d-ab50-4e3f-98d2-70abcf1d2af1"
      },
      "execution_count": null,
      "outputs": [
        {
          "output_type": "execute_result",
          "data": {
            "text/plain": [
              "array([ 5,  7,  9, 11, 15])"
            ]
          },
          "metadata": {},
          "execution_count": 16
        }
      ]
    },
    {
      "cell_type": "code",
      "source": [
        "# Slice Starting from 3rd value to end\n",
        "arr2 = arr[3:]\n",
        "arr2"
      ],
      "metadata": {
        "colab": {
          "base_uri": "https://localhost:8080/"
        },
        "id": "_MIryw0UohLt",
        "outputId": "db8e1c01-9780-4047-b3ab-83a5f97323fe"
      },
      "execution_count": null,
      "outputs": [
        {
          "output_type": "execute_result",
          "data": {
            "text/plain": [
              "array([ 9, 11, 15, 18, 22])"
            ]
          },
          "metadata": {},
          "execution_count": 17
        }
      ]
    },
    {
      "cell_type": "code",
      "source": [
        "# Slice 0 to 4 index\n",
        "arr2 = arr[:5]\n",
        "arr2"
      ],
      "metadata": {
        "colab": {
          "base_uri": "https://localhost:8080/"
        },
        "id": "noH3-SXQp55P",
        "outputId": "f504fb18-384a-4ef0-f5fa-f27814f6501c"
      },
      "execution_count": null,
      "outputs": [
        {
          "output_type": "execute_result",
          "data": {
            "text/plain": [
              "array([ 3,  5,  7,  9, 11])"
            ]
          },
          "metadata": {},
          "execution_count": 18
        }
      ]
    },
    {
      "cell_type": "code",
      "source": [
        "#  Use negative slicing\n",
        "arr2 = arr[-4:]\n",
        "arr2"
      ],
      "metadata": {
        "colab": {
          "base_uri": "https://localhost:8080/"
        },
        "id": "0aV0ICaCqFEP",
        "outputId": "428ec515-4d03-4baf-ad7d-4be8fcdeb210"
      },
      "execution_count": null,
      "outputs": [
        {
          "output_type": "execute_result",
          "data": {
            "text/plain": [
              "array([11, 15, 18, 22])"
            ]
          },
          "metadata": {},
          "execution_count": 19
        }
      ]
    },
    {
      "cell_type": "code",
      "source": [
        "# Example 6: Use step value\n",
        "arr2 = arr[::3]\n",
        "arr2"
      ],
      "metadata": {
        "colab": {
          "base_uri": "https://localhost:8080/"
        },
        "id": "4Ylpb7SVqw2f",
        "outputId": "793b7f83-4711-4f15-cebf-0608be36da30"
      },
      "execution_count": null,
      "outputs": [
        {
          "output_type": "execute_result",
          "data": {
            "text/plain": [
              "array([ 3,  9, 18])"
            ]
          },
          "metadata": {},
          "execution_count": 20
        }
      ]
    },
    {
      "cell_type": "code",
      "source": [
        "# Example 7: Use slicing with interval\n",
        "arr2 = arr[3::4]\n",
        "arr2"
      ],
      "metadata": {
        "colab": {
          "base_uri": "https://localhost:8080/"
        },
        "id": "1u2apYRRrYM_",
        "outputId": "ad6caec2-95a3-41e0-c96e-67280f45cb6f"
      },
      "execution_count": null,
      "outputs": [
        {
          "output_type": "execute_result",
          "data": {
            "text/plain": [
              "array([ 9, 22])"
            ]
          },
          "metadata": {},
          "execution_count": 21
        }
      ]
    },
    {
      "cell_type": "code",
      "source": [
        "#Random Function \n",
        "a=np.random.random((15))\n",
        "print(a)"
      ],
      "metadata": {
        "id": "22xKDRLjr0tt",
        "colab": {
          "base_uri": "https://localhost:8080/"
        },
        "outputId": "68a99009-144f-45e9-fb76-30dd83007425"
      },
      "execution_count": null,
      "outputs": [
        {
          "output_type": "stream",
          "name": "stdout",
          "text": [
            "[0.88298002 0.6741845  0.63612358 0.36456621 0.31461605 0.68196434\n",
            " 0.48164643 0.62711802 0.5899094  0.48324072 0.22042031 0.64086472\n",
            " 0.89786773 0.74802465 0.4406354 ]\n"
          ]
        }
      ]
    },
    {
      "cell_type": "code",
      "source": [
        "#Reshape function\n",
        "a=np.random.random((15))\n",
        "print(a)\n",
        "A=a.reshape(3,5)\n",
        "print(A)"
      ],
      "metadata": {
        "colab": {
          "base_uri": "https://localhost:8080/"
        },
        "id": "i_p-616PEYs8",
        "outputId": "450e3ded-24ca-4afd-f29c-6f07eacd1dee"
      },
      "execution_count": null,
      "outputs": [
        {
          "output_type": "stream",
          "name": "stdout",
          "text": [
            "[0.04231485 0.04627218 0.10519012 0.49125524 0.44486748 0.12807179\n",
            " 0.79319706 0.30738507 0.9105536  0.27670405 0.02717099 0.25748601\n",
            " 0.04794466 0.53788471 0.64267046]\n",
            "[[0.04231485 0.04627218 0.10519012 0.49125524 0.44486748]\n",
            " [0.12807179 0.79319706 0.30738507 0.9105536  0.27670405]\n",
            " [0.02717099 0.25748601 0.04794466 0.53788471 0.64267046]]\n"
          ]
        }
      ]
    },
    {
      "cell_type": "code",
      "source": [
        "a=np.random.random((15)) \n",
        "print(a) \n",
        "A=a.reshape(3,6) \n",
        "print(A)"
      ],
      "metadata": {
        "colab": {
          "base_uri": "https://localhost:8080/",
          "height": 269
        },
        "id": "4lu0Ys3-Ejq6",
        "outputId": "f466c5ee-62dd-4d83-999d-a3d6e6c66c16"
      },
      "execution_count": null,
      "outputs": [
        {
          "output_type": "stream",
          "name": "stdout",
          "text": [
            "[0.64197295 0.34864974 0.97190814 0.36472777 0.54046977 0.05513857\n",
            " 0.15514951 0.54957152 0.40368426 0.33420712 0.39516842 0.79754447\n",
            " 0.7615815  0.52110549 0.91117181]\n"
          ]
        },
        {
          "output_type": "error",
          "ename": "ValueError",
          "evalue": "ignored",
          "traceback": [
            "\u001b[0;31m---------------------------------------------------------------------------\u001b[0m",
            "\u001b[0;31mValueError\u001b[0m                                Traceback (most recent call last)",
            "\u001b[0;32m<ipython-input-24-9667fe43719e>\u001b[0m in \u001b[0;36m<module>\u001b[0;34m\u001b[0m\n\u001b[1;32m      1\u001b[0m \u001b[0ma\u001b[0m\u001b[0;34m=\u001b[0m\u001b[0mnp\u001b[0m\u001b[0;34m.\u001b[0m\u001b[0mrandom\u001b[0m\u001b[0;34m.\u001b[0m\u001b[0mrandom\u001b[0m\u001b[0;34m(\u001b[0m\u001b[0;34m(\u001b[0m\u001b[0;36m15\u001b[0m\u001b[0;34m)\u001b[0m\u001b[0;34m)\u001b[0m\u001b[0;34m\u001b[0m\u001b[0;34m\u001b[0m\u001b[0m\n\u001b[1;32m      2\u001b[0m \u001b[0mprint\u001b[0m\u001b[0;34m(\u001b[0m\u001b[0ma\u001b[0m\u001b[0;34m)\u001b[0m\u001b[0;34m\u001b[0m\u001b[0;34m\u001b[0m\u001b[0m\n\u001b[0;32m----> 3\u001b[0;31m \u001b[0mA\u001b[0m\u001b[0;34m=\u001b[0m\u001b[0ma\u001b[0m\u001b[0;34m.\u001b[0m\u001b[0mreshape\u001b[0m\u001b[0;34m(\u001b[0m\u001b[0;36m3\u001b[0m\u001b[0;34m,\u001b[0m\u001b[0;36m6\u001b[0m\u001b[0;34m)\u001b[0m\u001b[0;34m\u001b[0m\u001b[0;34m\u001b[0m\u001b[0m\n\u001b[0m\u001b[1;32m      4\u001b[0m \u001b[0mprint\u001b[0m\u001b[0;34m(\u001b[0m\u001b[0mA\u001b[0m\u001b[0;34m)\u001b[0m\u001b[0;34m\u001b[0m\u001b[0;34m\u001b[0m\u001b[0m\n",
            "\u001b[0;31mValueError\u001b[0m: cannot reshape array of size 15 into shape (3,6)"
          ]
        }
      ]
    },
    {
      "cell_type": "code",
      "source": [
        "a=np.random.random((15))\n",
        "print(a)\n",
        "a.shape = (3, 5)\n",
        "print(a)"
      ],
      "metadata": {
        "colab": {
          "base_uri": "https://localhost:8080/"
        },
        "id": "U5jxPgutE2Ht",
        "outputId": "9a901b54-65e8-44d3-d0c3-646bf0d848fa"
      },
      "execution_count": null,
      "outputs": [
        {
          "output_type": "stream",
          "name": "stdout",
          "text": [
            "[0.63132793 0.0525998  0.42443333 0.41936699 0.51063352 0.63768737\n",
            " 0.1038478  0.85204526 0.1548085  0.71460081 0.63274845 0.52348415\n",
            " 0.43380056 0.0999219  0.09339494]\n",
            "[[0.63132793 0.0525998  0.42443333 0.41936699 0.51063352]\n",
            " [0.63768737 0.1038478  0.85204526 0.1548085  0.71460081]\n",
            " [0.63274845 0.52348415 0.43380056 0.0999219  0.09339494]]\n"
          ]
        }
      ]
    },
    {
      "cell_type": "code",
      "source": [
        "#Transpos function\n",
        "a=np.random.random((12))\n",
        "A=a.reshape(3,4)\n",
        "print(A)\n",
        "print(A.transpose())"
      ],
      "metadata": {
        "colab": {
          "base_uri": "https://localhost:8080/"
        },
        "id": "UtRnSp42E9sq",
        "outputId": "0dfdd0fb-58f6-4bd0-c9dd-26176d693ef8"
      },
      "execution_count": null,
      "outputs": [
        {
          "output_type": "stream",
          "name": "stdout",
          "text": [
            "[[0.01561774 0.69107451 0.76296873 0.37437034]\n",
            " [0.02766229 0.90677573 0.73148756 0.55473858]\n",
            " [0.15694346 0.01096215 0.6186296  0.81697067]]\n",
            "[[0.01561774 0.02766229 0.15694346]\n",
            " [0.69107451 0.90677573 0.01096215]\n",
            " [0.76296873 0.73148756 0.6186296 ]\n",
            " [0.37437034 0.55473858 0.81697067]]\n"
          ]
        }
      ]
    },
    {
      "cell_type": "code",
      "source": [
        "#Looping in arrays\n",
        "a = np.arange(0,60,5)\n",
        "a = a.reshape(3,4)\n",
        "\n",
        "print (a)\n",
        "\n",
        "\n",
        "for x in np.nditer(a):\n",
        "   print (x)"
      ],
      "metadata": {
        "colab": {
          "base_uri": "https://localhost:8080/"
        },
        "id": "yed_Sm2MFVb2",
        "outputId": "6616b86e-36e3-4f6e-da3c-a31845cefc1c"
      },
      "execution_count": null,
      "outputs": [
        {
          "output_type": "stream",
          "name": "stdout",
          "text": [
            "[[ 0  5 10 15]\n",
            " [20 25 30 35]\n",
            " [40 45 50 55]]\n",
            "0\n",
            "5\n",
            "10\n",
            "15\n",
            "20\n",
            "25\n",
            "30\n",
            "35\n",
            "40\n",
            "45\n",
            "50\n",
            "55\n"
          ]
        }
      ]
    },
    {
      "cell_type": "code",
      "source": [
        "#looping\n",
        "a = np.arange(0,60,5) \n",
        "a = a.reshape(3,4) \n",
        "\n",
        "print (a) \n",
        "  \n",
        " \n",
        "b = a.T \n",
        "print (b) \n",
        " \n",
        "  \n",
        "for x in np.nditer(b): \n",
        "   print (x)"
      ],
      "metadata": {
        "colab": {
          "base_uri": "https://localhost:8080/"
        },
        "id": "9TfVV8w2GGC-",
        "outputId": "de9a93c0-9000-4882-ea46-3b39ad520fa3"
      },
      "execution_count": null,
      "outputs": [
        {
          "output_type": "stream",
          "name": "stdout",
          "text": [
            "[[ 0  5 10 15]\n",
            " [20 25 30 35]\n",
            " [40 45 50 55]]\n",
            "[[ 0 20 40]\n",
            " [ 5 25 45]\n",
            " [10 30 50]\n",
            " [15 35 55]]\n",
            "0\n",
            "5\n",
            "10\n",
            "15\n",
            "20\n",
            "25\n",
            "30\n",
            "35\n",
            "40\n",
            "45\n",
            "50\n",
            "55\n"
          ]
        }
      ]
    },
    {
      "cell_type": "code",
      "source": [],
      "metadata": {
        "id": "apr1uIpEGsoW"
      },
      "execution_count": null,
      "outputs": []
    },
    {
      "cell_type": "code",
      "source": [
        "#Matrix multiplication\n",
        "A = np.array([[1,2,3], [4,5,6]])\n",
        "B = np.array([[1,1,1], [0,1,0], [1,1,1]])\n",
        "print(\"Matrix A is:\\n\",A)\n",
        "print(\"Matrix A is:\\n\",B)\n",
        "C = np.matmul(A,B)\n",
        "\n",
        "print(\"Matrix multiplication of matrix A and B is:\\n\",C)"
      ],
      "metadata": {
        "colab": {
          "base_uri": "https://localhost:8080/"
        },
        "id": "341Y3JxnIj4r",
        "outputId": "5417d63a-8cf3-4445-d597-1d2203c4b333"
      },
      "execution_count": null,
      "outputs": [
        {
          "output_type": "stream",
          "name": "stdout",
          "text": [
            "Matrix A is:\n",
            " [[1 2 3]\n",
            " [4 5 6]]\n",
            "Matrix A is:\n",
            " [[1 1 1]\n",
            " [0 1 0]\n",
            " [1 1 1]]\n",
            "Matrix multiplication of matrix A and B is:\n",
            " [[ 4  6  4]\n",
            " [10 15 10]]\n"
          ]
        }
      ]
    },
    {
      "cell_type": "code",
      "source": [
        "# Python program to multiply two matrices using a list\n",
        "\n",
        "# take first matrix\n",
        "A = [[1, 1, 1, 1],\n",
        "     [1, 1, 1, 1],\n",
        "     [1, 1, 1, 1],\n",
        "     [1, 1, 1, 1]]\n",
        "\n",
        "# take second matrix\n",
        "B = [[5, 5, 5, 5],\n",
        "     [4, 4, 4, 4],\n",
        "     [3, 3, 3, 3],\n",
        "     [2, 2, 2, 2]]\n",
        "\n",
        "# multiply matrix\n",
        "res = [[sum(a * b for a, b in zip(A_row, B_col))\n",
        "        for B_col in zip(*B)] for A_row in A]\n",
        "for r in res:\n",
        "   print(r)"
      ],
      "metadata": {
        "colab": {
          "base_uri": "https://localhost:8080/"
        },
        "id": "ro7Q-posIlCp",
        "outputId": "4c9399cd-88fd-487e-84a3-ef96eb6fab78"
      },
      "execution_count": null,
      "outputs": [
        {
          "output_type": "stream",
          "name": "stdout",
          "text": [
            "[14, 14, 14, 14]\n",
            "[14, 14, 14, 14]\n",
            "[14, 14, 14, 14]\n",
            "[14, 14, 14, 14]\n"
          ]
        }
      ]
    },
    {
      "cell_type": "code",
      "source": [
        "C = np.matmul(A,B)"
      ],
      "metadata": {
        "id": "CLYM1Wtv5Hi0"
      },
      "execution_count": null,
      "outputs": []
    },
    {
      "cell_type": "code",
      "source": [
        "C"
      ],
      "metadata": {
        "colab": {
          "base_uri": "https://localhost:8080/"
        },
        "id": "waSpkMf35WpF",
        "outputId": "ed7ee98c-a68b-47fe-e26e-2b17d3e868ff"
      },
      "execution_count": null,
      "outputs": [
        {
          "output_type": "execute_result",
          "data": {
            "text/plain": [
              "257.16911882154955"
            ]
          },
          "metadata": {},
          "execution_count": 55
        }
      ]
    },
    {
      "cell_type": "code",
      "source": [],
      "metadata": {
        "id": "A6YltjakE3GI"
      },
      "execution_count": null,
      "outputs": []
    }
  ]
}