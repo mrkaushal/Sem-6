{
  "cells": [
    {
      "cell_type": "code",
      "execution_count": null,
      "metadata": {
        "id": "5PY3zIDxrE18"
      },
      "outputs": [],
      "source": [
        "#Importing package numpy\n",
        "import numpy as np "
      ]
    },
    {
      "cell_type": "code",
      "execution_count": null,
      "metadata": {
        "colab": {
          "base_uri": "https://localhost:8080/"
        },
        "id": "nf-NEy-YrE2O",
        "outputId": "89cf70c7-c2d3-4c27-ecd6-05a4f3ce2d43"
      },
      "outputs": [
        {
          "output_type": "execute_result",
          "data": {
            "text/plain": [
              "array([[1, 2, 3, 4],\n",
              "       [5, 6, 7, 8]])"
            ]
          },
          "metadata": {},
          "execution_count": 72
        }
      ],
      "source": [
        "#Creating simple 1D array from a list\n",
        "arr = np.array([[1,2,3,4],[5,6,7,8]])\n",
        "arr\n"
      ]
    },
    {
      "cell_type": "code",
      "execution_count": null,
      "metadata": {
        "colab": {
          "base_uri": "https://localhost:8080/"
        },
        "id": "m2T1WHqrrE2S",
        "outputId": "6c766aaf-0346-469d-880a-1a1292ec3ce6"
      },
      "outputs": [
        {
          "output_type": "stream",
          "name": "stdout",
          "text": [
            "1\n",
            "(14,)\n",
            "14\n",
            "<class 'numpy.ndarray'>\n",
            "<memory at 0x7f5988780880>\n"
          ]
        }
      ],
      "source": [
        "#Looking at different aspects of created array\n",
        "\n",
        "#dimenssions with ndim method #return number of dimensions\n",
        "print(arr.ndim)\n",
        "#shape of the array with shape method\n",
        "print(arr.shape)\n",
        "#size of the array or total number of elements with size method\n",
        "print(arr.size)\n",
        "#No of bytes needs to move for changing position with strides method\n",
        "#print(arr.strides)\n",
        "#type of the python object with type()\n",
        "print(type(arr))\n",
        "#memory location of the array with data method\n",
        "print(arr.data)"
      ]
    },
    {
      "cell_type": "code",
      "execution_count": null,
      "metadata": {
        "id": "fYD7o2xPrE2U",
        "outputId": "78b2655b-553a-4f99-ec31-cec7c812b24b",
        "colab": {
          "base_uri": "https://localhost:8080/"
        }
      },
      "outputs": [
        {
          "output_type": "stream",
          "name": "stdout",
          "text": [
            "[61, 65, 63, 69, 70, 73, 68, 64, 63, 62, 66]\n",
            "[61 65 63 69 70 73 68 64 63 62 66]\n"
          ]
        },
        {
          "output_type": "execute_result",
          "data": {
            "text/plain": [
              "array([1.5494, 1.651 , 1.6002, 1.7526, 1.778 , 1.8542, 1.7272, 1.6256,\n",
              "       1.6002, 1.5748, 1.6764])"
            ]
          },
          "metadata": {},
          "execution_count": 16
        }
      ],
      "source": [
        "#Broadcasting of array elements for arithmatics\n",
        "\n",
        "#Calculate BMI of cricket\n",
        "\n",
        "#Heights of the players in inches \n",
        "height_inches = [61,65,63,69,70,73,68,64,63,62,66]\n",
        "print(height_inches)\n",
        "#Convert this to numpy array\n",
        "ht_np = np.array(height_inches)\n",
        "print(ht_np)\n",
        "#Convert height from inch to meters by exposing it to 0.0245\n",
        "ht_np = ht_np * 0.0254\n",
        "ht_np"
      ]
    },
    {
      "cell_type": "code",
      "execution_count": null,
      "metadata": {
        "id": "fj-6adeKrE2V",
        "outputId": "dabe4189-282f-4d54-92a4-831cb6748080",
        "colab": {
          "base_uri": "https://localhost:8080/"
        }
      },
      "outputs": [
        {
          "output_type": "stream",
          "name": "stdout",
          "text": [
            "[1, 2, 3, 4, 5, 1, 2, 3, 4, 5]\n",
            "[2, 4, 6, 8, 10]\n"
          ]
        }
      ],
      "source": [
        "l = [1,2,3,4,5]\n",
        "print(l*2)\n",
        "l_m = [w*2 for w in l]\n",
        "print(l_m)"
      ]
    },
    {
      "cell_type": "code",
      "execution_count": null,
      "metadata": {
        "id": "zgkgAyUurE2W",
        "outputId": "9df6b01c-5876-41cc-81ad-038aa521aff2",
        "colab": {
          "base_uri": "https://localhost:8080/"
        }
      },
      "outputs": [
        {
          "output_type": "execute_result",
          "data": {
            "text/plain": [
              "array([45.  , 90.  , 72.  , 81.  , 63.  , 69.75, 74.25, 77.4 , 81.  ,\n",
              "       90.  , 75.6 ])"
            ]
          },
          "metadata": {},
          "execution_count": 22
        }
      ],
      "source": [
        "#Weight of players in pounds\n",
        "weight_pounds = [100,200,160,180,140,155,165,172,180,200,168]\n",
        "\n",
        "#Convert this to numpy array\n",
        "wt_np = np.array(weight_pounds)\n",
        "\n",
        "#Convert weight from pounds to kgs by exposing it to 0.45\n",
        "wt_np = wt_np * 0.45\n",
        "wt_np"
      ]
    },
    {
      "cell_type": "code",
      "execution_count": null,
      "metadata": {
        "id": "-0DTTv6crE2Z",
        "outputId": "28383164-3e5b-4da6-8bb3-8be8178e53d3",
        "colab": {
          "base_uri": "https://localhost:8080/"
        }
      },
      "outputs": [
        {
          "output_type": "execute_result",
          "data": {
            "text/plain": [
              "array([20.1474773 , 35.48817184, 30.22172356, 28.3435777 , 21.41964658,\n",
              "       21.80551373, 26.75139684, 31.48102353, 33.99943901, 39.0055999 ,\n",
              "       28.91357251])"
            ]
          },
          "metadata": {},
          "execution_count": 15
        }
      ],
      "source": [
        "#BMI Calculation\n",
        "# formula - bmi = weight in kgs / (height in meters ** 2)\n",
        "bmi = wt_np / (ht_np ** 2)\n",
        "bmi"
      ]
    },
    {
      "cell_type": "code",
      "execution_count": null,
      "metadata": {
        "id": "oP6KkWt7rE2b",
        "outputId": "0717423b-8396-48fc-a375-ac1b02b05c7a",
        "colab": {
          "base_uri": "https://localhost:8080/"
        }
      },
      "outputs": [
        {
          "output_type": "execute_result",
          "data": {
            "text/plain": [
              "20.147477295192218"
            ]
          },
          "metadata": {},
          "execution_count": 63
        }
      ],
      "source": [
        "#Subsetting of arrays with index\n",
        "bmi[0]"
      ]
    },
    {
      "cell_type": "code",
      "execution_count": null,
      "metadata": {
        "id": "89fL6-MKrE2c",
        "outputId": "32b5bfb2-133c-4cb6-d920-6832bd0fc3db",
        "colab": {
          "base_uri": "https://localhost:8080/"
        }
      },
      "outputs": [
        {
          "output_type": "execute_result",
          "data": {
            "text/plain": [
              "array([20.1474773])"
            ]
          },
          "metadata": {},
          "execution_count": 24
        }
      ],
      "source": [
        "#Boolean based subsetting - try to get players with BMI less than 21\n",
        "bmi[bmi < 21]"
      ]
    },
    {
      "cell_type": "code",
      "execution_count": null,
      "metadata": {
        "id": "hWqdvZQ1rE2d",
        "outputId": "d58522e6-290f-42af-c878-cecce9d309cf",
        "colab": {
          "base_uri": "https://localhost:8080/"
        }
      },
      "outputs": [
        {
          "output_type": "execute_result",
          "data": {
            "text/plain": [
              "array([20.1474773 , 35.48817184, 30.22172356, 28.3435777 ])"
            ]
          },
          "metadata": {},
          "execution_count": 25
        }
      ],
      "source": [
        "#Slicing of arrays\n",
        "bmi[0:4]"
      ]
    },
    {
      "cell_type": "code",
      "source": [
        "arr=[1,2,3,4,5,6,7,8]\n",
        "arr[3:]"
      ],
      "metadata": {
        "colab": {
          "base_uri": "https://localhost:8080/"
        },
        "id": "0h7EWFirip5S",
        "outputId": "ed0a0a33-5e0b-48da-9985-21cc6cd316e5"
      },
      "execution_count": null,
      "outputs": [
        {
          "output_type": "execute_result",
          "data": {
            "text/plain": [
              "[1, 2, 3, 4, 5]"
            ]
          },
          "metadata": {},
          "execution_count": 31
        }
      ]
    },
    {
      "cell_type": "code",
      "execution_count": null,
      "metadata": {
        "id": "d_3Q6QgTrE2e",
        "outputId": "63e28731-1e1e-49f7-e427-271712a1ff1f",
        "colab": {
          "base_uri": "https://localhost:8080/"
        }
      },
      "outputs": [
        {
          "output_type": "execute_result",
          "data": {
            "text/plain": [
              "array([[45.    , 90.    , 72.    , 81.    , 63.    , 69.75  , 74.25  ,\n",
              "        77.4   , 81.    , 90.    , 75.6   ],\n",
              "       [ 1.5494,  1.651 ,  1.6002,  1.7526,  1.778 ,  1.8542,  1.7272,\n",
              "         1.6256,  1.6002,  1.5748,  1.6764]])"
            ]
          },
          "metadata": {},
          "execution_count": 26
        }
      ],
      "source": [
        "#Making 2D array with data from arrays we created for players where one row will be height and other will be weight\n",
        "players = np.array([wt_np,ht_np])\n",
        "players"
      ]
    },
    {
      "cell_type": "code",
      "execution_count": null,
      "metadata": {
        "id": "XHtWhGGGrE2f",
        "outputId": "cddd4891-c09b-479d-eec5-bd5fa2c5e2fa",
        "colab": {
          "base_uri": "https://localhost:8080/"
        }
      },
      "outputs": [
        {
          "output_type": "execute_result",
          "data": {
            "text/plain": [
              "(72.0, 1.6001999999999998)"
            ]
          },
          "metadata": {},
          "execution_count": 27
        }
      ],
      "source": [
        "#Looking at height and weight of the player at index 2\n",
        "players[0][2],players[1][2]"
      ]
    },
    {
      "cell_type": "code",
      "execution_count": null,
      "metadata": {
        "id": "vvaoiGNNrE2g",
        "outputId": "d605f5d9-5199-490e-d8ec-b45900553382",
        "colab": {
          "base_uri": "https://localhost:8080/"
        }
      },
      "outputs": [
        {
          "output_type": "execute_result",
          "data": {
            "text/plain": [
              "array([1.5494, 1.651 , 1.6002, 1.7526, 1.778 , 1.8542, 1.7272, 1.6256,\n",
              "       1.6002, 1.5748, 1.6764])"
            ]
          },
          "metadata": {},
          "execution_count": 32
        }
      ],
      "source": [
        "#Looking at height of all the players, fetching height\n",
        "players[1]"
      ]
    },
    {
      "cell_type": "code",
      "execution_count": null,
      "metadata": {
        "id": "Hmz80O5wrE2g",
        "outputId": "c43a8623-42b9-4932-c5a0-5f65dd0fe818",
        "colab": {
          "base_uri": "https://localhost:8080/"
        }
      },
      "outputs": [
        {
          "output_type": "execute_result",
          "data": {
            "text/plain": [
              "array([[45.    ,  1.5494],\n",
              "       [90.    ,  1.651 ],\n",
              "       [72.    ,  1.6002],\n",
              "       [81.    ,  1.7526],\n",
              "       [63.    ,  1.778 ],\n",
              "       [69.75  ,  1.8542],\n",
              "       [74.25  ,  1.7272],\n",
              "       [77.4   ,  1.6256],\n",
              "       [81.    ,  1.6002],\n",
              "       [90.    ,  1.5748],\n",
              "       [75.6   ,  1.6764]])"
            ]
          },
          "metadata": {},
          "execution_count": 73
        }
      ],
      "source": [
        "#Transpose - lets transpose the array of players#row to column and column to row\n",
        "pT = players.transpose()\n",
        "pT\n",
        "#pT.shape"
      ]
    },
    {
      "cell_type": "code",
      "source": [
        "pT = players.transpose()\n",
        "pT"
      ],
      "metadata": {
        "colab": {
          "base_uri": "https://localhost:8080/"
        },
        "id": "M_XkQwgQsIc7",
        "outputId": "210a511c-02a2-4ff3-d4ef-23364e4f6885"
      },
      "execution_count": null,
      "outputs": [
        {
          "output_type": "execute_result",
          "data": {
            "text/plain": [
              "array([[45.    ,  1.5494],\n",
              "       [90.    ,  1.651 ],\n",
              "       [72.    ,  1.6002],\n",
              "       [81.    ,  1.7526],\n",
              "       [63.    ,  1.778 ],\n",
              "       [69.75  ,  1.8542],\n",
              "       [74.25  ,  1.7272],\n",
              "       [77.4   ,  1.6256],\n",
              "       [81.    ,  1.6002],\n",
              "       [90.    ,  1.5748],\n",
              "       [75.6   ,  1.6764]])"
            ]
          },
          "metadata": {},
          "execution_count": 66
        }
      ]
    },
    {
      "cell_type": "code",
      "execution_count": null,
      "metadata": {
        "id": "nSf9dwvtrE2h",
        "outputId": "c49e4591-c57d-4190-88e0-16f78bbe6a42",
        "colab": {
          "base_uri": "https://localhost:8080/"
        }
      },
      "outputs": [
        {
          "output_type": "execute_result",
          "data": {
            "text/plain": [
              "array([[45.    , 90.    , 72.    , 81.    , 63.    , 69.75  , 74.25  ,\n",
              "        77.4   , 81.    , 90.    , 75.6   ],\n",
              "       [ 1.5494,  1.651 ,  1.6002,  1.7526,  1.778 ,  1.8542,  1.7272,\n",
              "         1.6256,  1.6002,  1.5748,  1.6764]])"
            ]
          },
          "metadata": {},
          "execution_count": 38
        }
      ],
      "source": [
        "#Swap axes - Just like transpose but parameters needs to be defined explicitly - array and axes to be swapped\n",
        "pT = np.swapaxes(pT,0,1)\n",
        "pT"
      ]
    },
    {
      "cell_type": "markdown",
      "source": [
        "https://www.geeksforgeeks.org/numpy-swapaxes-function-python/"
      ],
      "metadata": {
        "id": "iXNfIu-5kHHn"
      }
    },
    {
      "cell_type": "code",
      "execution_count": null,
      "metadata": {
        "id": "opiE9c1frE2j",
        "outputId": "7117b540-ba24-485f-9d29-8ba658597fb1",
        "colab": {
          "base_uri": "https://localhost:8080/"
        }
      },
      "outputs": [
        {
          "output_type": "stream",
          "name": "stdout",
          "text": [
            "[1.         1.41421356 1.73205081 2.         2.23606798 2.44948974\n",
            " 2.64575131 2.82842712]\n",
            "[2.71828183e+00 7.38905610e+00 2.00855369e+01 5.45981500e+01\n",
            " 1.48413159e+02 4.03428793e+02 1.09663316e+03 2.98095799e+03]\n",
            "[2.71828183e+00 7.38905610e+00 2.00855369e+01 5.45981500e+01\n",
            " 1.48413159e+02 4.03428793e+02 1.09663316e+03 2.98095799e+03]\n"
          ]
        }
      ],
      "source": [
        "#Universal functions\n",
        "\n",
        "#Unary functions\n",
        "\n",
        "#arange and reshape\n",
        "# arr1 = np.arange(10).reshape(2,5)\n",
        "# print(arr1)\n",
        "#square root function\n",
        "arr1=[1,2,3,4,5,6,7,8]\n",
        "arr2 = np.sqrt(arr1)\n",
        "print(arr2)\n",
        "\n",
        "#Exponential function\n",
        "arr3 = np.exp(arr1)\n",
        "print(arr3)\n",
        "\n",
        "#Binary Functions - check the maximum out of two arrays\n",
        "arr5 = np.maximum(arr2,arr3)\n",
        "print(arr5)"
      ]
    },
    {
      "cell_type": "code",
      "execution_count": null,
      "metadata": {
        "id": "Qr8a09a9rE2l",
        "outputId": "5c335c52-0791-4630-ce7f-77f893efeeb7",
        "colab": {
          "base_uri": "https://localhost:8080/"
        }
      },
      "outputs": [
        {
          "output_type": "stream",
          "name": "stdout",
          "text": [
            "74.45454545454545\n",
            "75.60000000000001\n",
            "819.0\n",
            "12.082941667443528\n",
            "[[ 1.         -0.01706933]\n",
            " [-0.01706933  1.        ]]\n"
          ]
        }
      ],
      "source": [
        "#Mathematical and statistical functions\n",
        "\n",
        "#mean function - find out mean of the weight of the players\n",
        "print(np.mean(wt_np))\n",
        "\n",
        "#median function - find out median of the weight of the players\n",
        "print(np.median(wt_np))\n",
        "\n",
        "#Sum function - find out sum of the weight of the players\n",
        "print(np.sum(wt_np))\n",
        "\n",
        "#standard devaition - find out standard deviation of the weight of the players\n",
        "print(np.std(wt_np))\n",
        "\n",
        "#Correlation coefficient - find out correlation between weight and height of the players\n",
        "print(np.corrcoef(wt_np,ht_np))"
      ]
    },
    {
      "cell_type": "code",
      "execution_count": null,
      "metadata": {
        "id": "OpnDtmnzrE2m",
        "outputId": "f4eff74f-20c4-4b91-c5bd-bef76dc6f7f6",
        "colab": {
          "base_uri": "https://localhost:8080/"
        }
      },
      "outputs": [
        {
          "output_type": "stream",
          "name": "stdout",
          "text": [
            "[False  True False False  True]\n",
            "True\n",
            "False\n"
          ]
        }
      ],
      "source": [
        "#Methods for boolean arrays\n",
        "bools = [False,True,False,False,True]\n",
        "\n",
        "b = np.array(bools)\n",
        "print(b)\n",
        "#Sum method over boolean arrays\n",
        "#print(b.sum())\n",
        "\n",
        "#any method\n",
        "print(b.any())\n",
        "\n",
        "#all method\n",
        "print(b.all())"
      ]
    },
    {
      "cell_type": "code",
      "execution_count": null,
      "metadata": {
        "id": "BqwNqOJArE2n",
        "outputId": "73303a4e-3468-440a-b96e-07fa27b57395",
        "colab": {
          "base_uri": "https://localhost:8080/"
        }
      },
      "outputs": [
        {
          "output_type": "stream",
          "name": "stdout",
          "text": [
            "[[-0.45777881  0.87258046  0.58682695  0.16044107  0.61622244]\n",
            " [-0.71177286  1.63876182  0.30322322  0.36358766 -0.96567971]]\n",
            "[[-0.45777881  0.16044107  0.58682695  0.61622244  0.87258046]\n",
            " [-0.96567971 -0.71177286  0.30322322  0.36358766  1.63876182]]\n"
          ]
        }
      ],
      "source": [
        "#Sort method\n",
        "\n",
        "arr = np.random.randn(10).reshape(2,5)\n",
        "print(arr)\n",
        "print(np.sort(arr))"
      ]
    },
    {
      "cell_type": "code",
      "execution_count": null,
      "metadata": {
        "id": "e4yaAs6urE2o",
        "outputId": "a3476607-a068-422d-a54c-de91dad13799",
        "colab": {
          "base_uri": "https://localhost:8080/"
        }
      },
      "outputs": [
        {
          "output_type": "execute_result",
          "data": {
            "text/plain": [
              "array(['Bob', 'Joe', 'Will'], dtype='<U4')"
            ]
          },
          "metadata": {},
          "execution_count": 47
        }
      ],
      "source": [
        "#Unique Function\n",
        "names = np.array(['Bob', 'Joe', 'Will', 'Bob', 'Will', 'Joe', 'Joe'])\n",
        "np.unique(names)"
      ]
    },
    {
      "cell_type": "code",
      "execution_count": null,
      "metadata": {
        "id": "uDdpyoilrE2p",
        "outputId": "9f23178d-7322-4b12-fa94-6c0b97f64c16",
        "colab": {
          "base_uri": "https://localhost:8080/"
        }
      },
      "outputs": [
        {
          "output_type": "stream",
          "name": "stdout",
          "text": [
            "[[0 1 2 3 4]\n",
            " [5 6 7 8 9]]\n",
            "[0 1 2 3 4 5 6 7 8 9]\n",
            "[1000    1    2    3    4    5    6    7    8    9]\n",
            "[[1000    1    2    3    4]\n",
            " [   5    6    7    8    9]]\n"
          ]
        }
      ],
      "source": [
        "#Ravel\n",
        "arr4 = np.arange(10).reshape(2,5)\n",
        "print(arr4)\n",
        "rav1 = arr4.ravel()\n",
        "print(rav1)\n",
        "rav1[0] = 1000\n",
        "print(rav1)\n",
        "print(arr4)"
      ]
    },
    {
      "cell_type": "code",
      "source": [
        "from google.colab import drive\n",
        "drive.mount('/content/drive')"
      ],
      "metadata": {
        "colab": {
          "base_uri": "https://localhost:8080/"
        },
        "id": "Lx6HLD5FooDc",
        "outputId": "dc9a5835-c832-459b-a670-77f36b02db4e"
      },
      "execution_count": null,
      "outputs": [
        {
          "output_type": "stream",
          "name": "stdout",
          "text": [
            "Drive already mounted at /content/drive; to attempt to forcibly remount, call drive.mount(\"/content/drive\", force_remount=True).\n"
          ]
        }
      ]
    },
    {
      "cell_type": "code",
      "source": [
        "file = open(\"/content/drive/MyDrive/areas.csv\")\n",
        " \n",
        "for i in file:\n",
        "    print(i)"
      ],
      "metadata": {
        "colab": {
          "base_uri": "https://localhost:8080/"
        },
        "id": "mccMF3idowA4",
        "outputId": "c19affd4-4e5d-4ea6-b2ee-825ce06bacbd"
      },
      "execution_count": null,
      "outputs": [
        {
          "output_type": "stream",
          "name": "stdout",
          "text": [
            "area\n",
            "\n",
            "1000\n",
            "\n",
            "1500\n",
            "\n",
            "2300\n",
            "\n",
            "3540\n",
            "\n",
            "4120\n",
            "\n",
            "4560\n",
            "\n",
            "5490\n",
            "\n",
            "3460\n",
            "\n",
            "4750\n",
            "\n",
            "2300\n",
            "\n",
            "9000\n",
            "\n",
            "8600\n",
            "\n",
            "7100\n",
            "\n"
          ]
        }
      ]
    },
    {
      "cell_type": "code",
      "source": [
        " \n",
        "# using loadtxt()\n",
        "arr = np.loadtxt(\"/content/drive/MyDrive/areas.csv\",dtype=str)\n",
        "display(arr)"
      ],
      "metadata": {
        "colab": {
          "base_uri": "https://localhost:8080/",
          "height": 54
        },
        "id": "VPjHuTtfpI8A",
        "outputId": "81c7d473-a136-4190-ffc7-f3d81a4e12bd"
      },
      "execution_count": null,
      "outputs": [
        {
          "output_type": "display_data",
          "data": {
            "text/plain": [
              "array(['area', '1000', '1500', '2300', '3540', '4120', '4560', '5490',\n",
              "       '3460', '4750', '2300', '9000', '8600', '7100'], dtype='<U4')"
            ]
          },
          "metadata": {}
        }
      ]
    },
    {
      "cell_type": "code",
      "execution_count": null,
      "metadata": {
        "id": "aolnnR6arE2q",
        "outputId": "453e513b-244d-4d6a-89f8-443fe1d4b71b",
        "colab": {
          "base_uri": "https://localhost:8080/"
        }
      },
      "outputs": [
        {
          "output_type": "stream",
          "name": "stdout",
          "text": [
            "[[0 1 2 3 4]\n",
            " [5 6 7 8 9]]\n",
            "[0 1 2 3 4 5 6 7 8 9]\n",
            "[1000    1    2    3    4    5    6    7    8    9]\n",
            "[[0 1 2 3 4]\n",
            " [5 6 7 8 9]]\n"
          ]
        }
      ],
      "source": [
        "#Flatten\n",
        "#arr4 = np.arange(10).reshape(2,5)\n",
        "#print(arr4)\n",
        "#fl1 = arr4.flatten()\n",
        "#print(fl1)\n",
        "#fl1[0] = 1000\n",
        "#print(fl1)\n",
        "#print(arr4)"
      ]
    },
    {
      "cell_type": "code",
      "execution_count": null,
      "metadata": {
        "id": "WTYZrm7GrE2r"
      },
      "outputs": [],
      "source": [
        "#Concatenation\n",
        "\n",
        "# ar1 = np.arange(10).reshape(2,5)\n",
        "# ar2 = np.arange(10).reshape(2,5)\n",
        "\n",
        "# print(np.concatenate([ar1,ar2], axis = 0))\n",
        "# print(np.concatenate([ar1,ar2], axis = 1))\n",
        "# print(np.vstack([ar1,ar2]))\n",
        "# print(np.hstack([ar1,ar2]))"
      ]
    },
    {
      "cell_type": "code",
      "execution_count": null,
      "metadata": {
        "id": "IRX-arlirE2s"
      },
      "outputs": [],
      "source": [
        "#Split\n",
        "# arr = np.random.randn(5, 2)\n",
        "# print(\"Original array.\")\n",
        "# print(arr)\n",
        "# print(\"\\n\")\n",
        "# first, second, third = np.split(arr, [1,3])\n",
        "# print(\"The first split\")\n",
        "# print(first)\n",
        "# print(\"\\n\")\n",
        "# print(\"The second split\")\n",
        "# print(second)\n",
        "# print(\"\\n\")\n",
        "# print(\"The third split\")\n",
        "# print(third)\n",
        "# print(\"\\n\")"
      ]
    },
    {
      "cell_type": "code",
      "execution_count": null,
      "metadata": {
        "id": "oTDW__zwrE2s"
      },
      "outputs": [],
      "source": [
        "#Repeat\n",
        "# arr = np.arange(3)\n",
        "# print(arr)\n",
        "# print(\"\\n\")\n",
        "# print(arr.repeat(4))\n",
        "\n",
        "#We can pass list as argument for repeat\n",
        "# print(\"\\n\")\n",
        "# print(arr.repeat([2, 3, 4]))\n",
        "# print(\"\\n\")\n",
        "\n",
        "#We can specify axes to do the repeat\n",
        "# arr_2 = np.random.randn(2, 2)\n",
        "# print(arr_2)\n",
        "# print(\"\\n\")\n",
        "# print(arr_2.repeat(2, axis=1))\n",
        "# print(arr_2.repeat(2, axis=0))"
      ]
    },
    {
      "cell_type": "code",
      "execution_count": null,
      "metadata": {
        "id": "bJujICTbrE2t"
      },
      "outputs": [],
      "source": [
        "#Tile\n",
        "# print(np.tile(arr_2, 2)) #tiling at axis = 1 i.e. on columns\n",
        "# print(\"\\n\")\n",
        "# print(np.tile(arr_2, (2, 1))) #tiling on rows and columns \n",
        "# print(\"\\n\")\n",
        "# print(np.tile(arr_2, (3, 2))) #tiling on rows and columns "
      ]
    },
    {
      "cell_type": "code",
      "execution_count": null,
      "metadata": {
        "id": "9PYGA5HPfnj4"
      },
      "outputs": [],
      "source": []
    }
  ],
  "metadata": {
    "colab": {
      "provenance": []
    },
    "kernelspec": {
      "display_name": "Python 3 (ipykernel)",
      "language": "python",
      "name": "python3"
    },
    "language_info": {
      "codemirror_mode": {
        "name": "ipython",
        "version": 3
      },
      "file_extension": ".py",
      "mimetype": "text/x-python",
      "name": "python",
      "nbconvert_exporter": "python",
      "pygments_lexer": "ipython3",
      "version": "3.9.7"
    }
  },
  "nbformat": 4,
  "nbformat_minor": 0
}